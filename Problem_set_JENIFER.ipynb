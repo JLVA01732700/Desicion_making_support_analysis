{
  "cells": [
    {
      "cell_type": "markdown",
      "metadata": {
        "id": "view-in-github",
        "colab_type": "text"
      },
      "source": [
        "<a href=\"https://colab.research.google.com/github/JLVA01732700/Desicion_making_support_analysis/blob/main/Problem_set_JENIFER.ipynb\" target=\"_parent\"><img src=\"https://colab.research.google.com/assets/colab-badge.svg\" alt=\"Open In Colab\"/></a>"
      ]
    },
    {
      "cell_type": "markdown",
      "metadata": {
        "id": "mT75SDviXnfN"
      },
      "source": [
        "# Problem Set\n",
        "[![Open In Colab](https://colab.research.google.com/assets/colab-badge.svg)](https://colab.research.google.com/github/HesusG/python-decision-making-support-analysis/blob/main/module_1/problem_set.ipynb)"
      ]
    },
    {
      "cell_type": "markdown",
      "metadata": {
        "id": "TcJ4T9aIXnfS"
      },
      "source": [
        "## Problem Set Introduction \n",
        "\n",
        "Welcome to the Linear Programming Problem Set! 🙌\n",
        "\n",
        "This set consists of three bi-dimensional linear programming problems that require the application of a systematic six-step approach. These steps include:\n",
        "\n",
        "1. Identify the objective 🎯\n",
        "2. Specify decision variables ✏️\n",
        "3. Formulate the objective function 📋\n",
        "4. Define constraints ⛓️\n",
        "5. Consider hidden conditions 🔍\n",
        "6. Formulate the complete model ⚙️\n",
        "\n",
        "To solve these problems effectively, it is recommended to use Python, a powerful programming language that offers various libraries and solvers for linear programming. 🐍 Make sure to include code implementation for each problem to validate your results. 💻\n",
        "\n",
        "Remember to document your thought process, assumptions, and code implementation. This will aid in understanding the problem-solving approach and serve as a valuable reference.\n",
        "\n",
        "Let's begin solving these bi-dimensional linear programming problems using the six-step methodology and Python programming. Good luck and enjoy the problem-solving journey! 😄\n",
        "\n",
        "\n",
        "![Random Giphy](https://media.giphy.com/media/Ws6T5PN7wHv3cY8xy8/giphy.gif)\n",
        "\n",
        "* Remember to use the following code to install pulp in your notebook and make sure to load it by using import."
      ]
    },
    {
      "cell_type": "code",
      "execution_count": 1,
      "metadata": {
        "id": "zcGtaLA6XnfX",
        "outputId": "27632027-fa2f-48d0-f9b3-758df02fe49a",
        "colab": {
          "base_uri": "https://localhost:8080/"
        }
      },
      "outputs": [
        {
          "output_type": "stream",
          "name": "stdout",
          "text": [
            "Looking in indexes: https://pypi.org/simple, https://us-python.pkg.dev/colab-wheels/public/simple/\n",
            "Collecting pulp\n",
            "  Downloading PuLP-2.7.0-py3-none-any.whl (14.3 MB)\n",
            "\u001b[2K     \u001b[90m━━━━━━━━━━━━━━━━━━━━━━━━━━━━━━━━━━━━━━━━\u001b[0m \u001b[32m14.3/14.3 MB\u001b[0m \u001b[31m68.8 MB/s\u001b[0m eta \u001b[36m0:00:00\u001b[0m\n",
            "\u001b[?25hInstalling collected packages: pulp\n",
            "Successfully installed pulp-2.7.0\n"
          ]
        }
      ],
      "source": [
        "!pip install pulp"
      ]
    },
    {
      "cell_type": "code",
      "execution_count": 2,
      "metadata": {
        "id": "bFpbCnE5XnfY"
      },
      "outputs": [],
      "source": [
        "from pulp import *"
      ]
    },
    {
      "cell_type": "markdown",
      "metadata": {
        "id": "RCuHXreeXnfY"
      },
      "source": [
        "## Problem 1\n",
        "A company manufactures and sells two types of hydraulic pumps: 1) Normal and 2) Heavy-duty. The production process for the pumps consists of three activities: assembly, painting, and testing (quality control), with their respective times listed in the table below. The profit contribution from selling a normal pump is 50, while a heavy-duty pump yields a profit of 75. There are 4800 hours available per week for assembly, 1980 hours for painting, and 900 hours for quality testing. Based on past experiences, the company expects to sell 300 normal pumps and 180 heavy-duty pumps. The manager is interested in determining the quantity of pumps to manufacture weekly in order to maximize profits."
      ]
    },
    {
      "cell_type": "markdown",
      "metadata": {
        "id": "Znb-JWAJXnfY"
      },
      "source": [
        "|    Type     | Assembly Time | Painting Time | Testing Time |\n",
        "|-------------|---------------|---------------|--------------|\n",
        "|   Normal    |      3.6      |      1.6      |     0.6      |\n",
        "|   Heavy-duty |      4.8      |      1.8      |     0.6      |\n"
      ]
    },
    {
      "cell_type": "code",
      "execution_count": 3,
      "metadata": {
        "id": "fU6xwFlvXnfZ",
        "outputId": "ee750189-db8c-4534-f3c6-b1ab2b3c69f0",
        "colab": {
          "base_uri": "https://localhost:8080/"
        }
      },
      "outputs": [
        {
          "output_type": "stream",
          "name": "stdout",
          "text": [
            "Optimal Solution\n",
            "Normal 300.0\n",
            "Heavy-Duty 775.0\n",
            "Profit 73125.0\n"
          ]
        }
      ],
      "source": [
        "\n",
        "# Step 1 (this is a comment)\n",
        "prob = LpProblem(\"Maximize_Profits\", LpMaximize)\n",
        "# Identify the decision variables.\n",
        "x1 = LpVariable(\"Normal\", lowBound=0, cat=\"Integer\")\n",
        "x2 = LpVariable(\"Heavy-Duty\", lowBound=0, cat=\"Integer\")\n",
        "\n",
        "# Step 3 Objective Function\n",
        "prob += 50*x1 + 75*x2, \"Maximize_Profits\"\n",
        "\n",
        "#Step 4 Define the constraints\n",
        "prob += 3.6*x1 + 4.8*x2 <= 4800, \"Assembly Constraint\"\n",
        "\n",
        "prob += 1.6*x1 + 1.8*x2 <= 1980, \"Painting Constraint\"\n",
        "prob += 0.6*x1 + 0.6*x2 <= 900, \"Testing Constraint\"\n",
        "\n",
        "prob += x1 >= 300, \"Normal Constraint\"\n",
        "prob += x2 >= 180, \"Heavy Duty Constraint\"\n",
        "\n",
        "prob.solve()\n",
        "\n",
        "print(\"Optimal Solution\")\n",
        "print(\"Normal\", x1.varValue)\n",
        "print(\"Heavy-Duty\", x2.varValue) \n",
        "print(\"Profit\", prob.objective.value())"
      ]
    },
    {
      "cell_type": "markdown",
      "metadata": {
        "id": "IBJkvI_jXnfa"
      },
      "source": [
        "## Problem 2\n",
        " A company is interested in developing a fertilizer that contains a minimum of 100 units of potassium, 25 units of nitrogen, and 10 units of ammonia. For this purpose, they have products A and B, which cost 10 and 15 euros per ton in the market, respectively. The content of potassium, nitrogen, and ammonia per ton of product is shown in the following table.\n",
        "\n"
      ]
    },
    {
      "cell_type": "markdown",
      "metadata": {
        "id": "ZN3OfOp0Xnfa"
      },
      "source": [
        "|      | POTASSIUM | NITROGEN | AMMONIA |\n",
        "|---------|------------|----------|---------|\n",
        "| Product A |      2       |      0.3     |     0.2    |\n",
        "| Product B |      1       |      0.6     |     0.2    |\n"
      ]
    },
    {
      "cell_type": "code",
      "execution_count": 7,
      "metadata": {
        "id": "ijkQoY78Xnfa",
        "colab": {
          "base_uri": "https://localhost:8080/"
        },
        "outputId": "dc953f91-5b24-4ec7-e4c2-4714560980b5"
      },
      "outputs": [
        {
          "output_type": "stream",
          "name": "stdout",
          "text": [
            "Optimal Solution\n",
            "Product_A 40.0\n",
            "Product_B 22.0\n",
            "Profit 730.0\n"
          ]
        }
      ],
      "source": [
        "\n",
        "# Step 1 (GET THE AMOUNT OF PRODUCTS TO MAKE THE MAXIMUM PROFIT)\n",
        "prob = LpProblem(\"Minimize_Cost\", LpMinimize)\n",
        "# Identify the decision variables.\n",
        "x1 = LpVariable(\"Product_A\", lowBound=0, cat=\"Integer\" )\n",
        "x2 = LpVariable(\"Product_B\", lowBound=0, cat=\"Integer\")\n",
        "\n",
        "# Step 3 Objective Function\n",
        "prob += 10*x1 + 15*x2, \"Minimize_Cost\"\n",
        "\n",
        "#Step 4 Define the constraints\n",
        "prob += 2*x1 + 1*x2 >= 100, \"Potassium Constraint\"\n",
        "prob += .3*x1 + .6*x2 >= 25, \"Nitrogen Constraint\"\n",
        "prob += .2*x1 + 0.2*x2 >= 10, \"Ammonia Constraint\"\n",
        "\n",
        "\n",
        "prob.solve()\n",
        "\n",
        "print(\"Optimal Solution\")\n",
        "print(\"Product_A\", x1.varValue)\n",
        "print(\"Product_B\", x2.varValue) \n",
        "print(\"Profit\", prob.objective.value())"
      ]
    },
    {
      "cell_type": "markdown",
      "metadata": {
        "id": "XMP8uHgIXnfa"
      },
      "source": [
        "## Problem 3\n",
        "A bakery is famous for its two specialties: the imperial cake and the lime cake. The imperial cake requires half a kilogram of sugar and eight eggs, and it is sold for eight dollars. The lime cake requires one kilogram of sugar and eight eggs, and it is sold for ten dollars. In the warehouse, there are only ten kilograms of sugar and one hundred twenty eggs. What combination of these specialties can be made?"
      ]
    },
    {
      "cell_type": "markdown",
      "metadata": {
        "id": "nqp2ligdXnfa"
      },
      "source": [
        "|            | Sugar (kilogram) | Eggs | Price |\n",
        "|------------|-----------------|------|-------|\n",
        "| Imperial Cake |      0.5        |   8   |   8   |\n",
        "| Lime Cake   |        1          |   8   |  10  |\n"
      ]
    },
    {
      "cell_type": "code",
      "execution_count": 5,
      "metadata": {
        "id": "HG2SHdD4Xnfb",
        "colab": {
          "base_uri": "https://localhost:8080/"
        },
        "outputId": "67f233c3-8099-4fdc-9223-8ce9932360d1"
      },
      "outputs": [
        {
          "output_type": "stream",
          "name": "stdout",
          "text": [
            "Optimal Solution\n",
            "Imperial_Cake 4.0\n",
            "Lime_Cake 1.0\n",
            "Profit 40.0\n"
          ]
        }
      ],
      "source": [
        "# Step 1 (GET THE AMOUNT OF PRODUCTS TO MAKE THE MAXIMUM PROFIT) \n",
        "prob = LpProblem(\"Maximize_Profits\", LpMaximize)\n",
        "# Identify the decision variables.\n",
        "x1 = LpVariable(\"Imperial_Cake\", lowBound=0, cat=\"Integer\")\n",
        "x2 = LpVariable(\"Lime_Cake\", lowBound=0, cat=\"Integer\")\n",
        "\n",
        "# Step 3 Objective Function\n",
        "prob += 8*x1 + 8*x2, \"Maximize_Profits\"\n",
        "\n",
        "#Step 4 Define the constraints\n",
        "prob += .5*x1 + 8*x2 <= 10, \"Sugar Constraint\"\n",
        "prob += 1*x1 + 8*x2 <= 120, \"Eggs Constraint\"\n",
        "\n",
        "\n",
        "prob += x2 >= 1, \"Lime_Cake\"\n",
        "\n",
        "prob.solve()\n",
        "\n",
        "print(\"Optimal Solution\")\n",
        "print(\"Imperial_Cake\", x1.varValue)\n",
        "print(\"Lime_Cake\", x2.varValue) \n",
        "print(\"Profit\", prob.objective.value())"
      ]
    }
  ],
  "metadata": {
    "language_info": {
      "name": "python"
    },
    "orig_nbformat": 4,
    "colab": {
      "provenance": [],
      "include_colab_link": true
    },
    "kernelspec": {
      "name": "python3",
      "display_name": "Python 3"
    },
    "gpuClass": "standard"
  },
  "nbformat": 4,
  "nbformat_minor": 0
}